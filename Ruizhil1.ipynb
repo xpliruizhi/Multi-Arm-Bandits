{
 "cells": [
  {
   "cell_type": "markdown",
   "metadata": {},
   "source": [
    "# COMP90051 Project 2"
   ]
  },
  {
   "cell_type": "code",
   "execution_count": 6,
   "metadata": {},
   "outputs": [],
   "source": [
    "# Do not edit. These are the only imports permitted.\n",
    "%matplotlib inline\n",
    "import numpy as np\n",
    "from numpy.linalg import inv\n",
    "import matplotlib.pyplot as plt\n",
    "from abc import ABC, abstractmethod"
   ]
  },
  {
   "cell_type": "code",
   "execution_count": 7,
   "metadata": {},
   "outputs": [],
   "source": [
    "############### Student ID: 941371, username: Ruizhil1############################\n",
    "\n",
    "test_data = np.loadtxt('dataset.txt',dtype=np.int16)\n",
    "\n",
    "## Read the test data from local file\n",
    "##  Split data into different cases\n",
    "arms = test_data[:,0]\n",
    "rewards = test_data[:,1]\n",
    "contexts = test_data[:,2:]"
   ]
  },
  {
   "cell_type": "markdown",
   "metadata": {},
   "source": [
    "## 1. Implementing ε-Greedy and UCB"
   ]
  },
  {
   "cell_type": "code",
   "execution_count": 9,
   "metadata": {},
   "outputs": [],
   "source": [
    "class MAB(ABC):\n",
    "    \"\"\"\n",
    "    Abstract class that represents a multi-armed bandit (MAB)\n",
    "    \"\"\"\n",
    "    \n",
    "    @abstractmethod\n",
    "    def play(self, tround, context):\n",
    "        \"\"\"\n",
    "        Play a round\n",
    "        \n",
    "        Arguments\n",
    "        =========\n",
    "        tround : int\n",
    "            positive integer identifying the round\n",
    "        \n",
    "        context : 1D float array, shape (self.ndims * self.narms), optional\n",
    "            context given to the arms\n",
    "        \n",
    "        Returns\n",
    "        =======\n",
    "        arm : int\n",
    "            the positive integer arm id for this round\n",
    "        \"\"\"\n",
    "    \n",
    "    @abstractmethod\n",
    "    def update(self, arm, reward, context):\n",
    "        \"\"\"\n",
    "        Updates the internal state of the MAB after a play\n",
    "        \n",
    "        Arguments\n",
    "        =========\n",
    "        arm : int\n",
    "            a positive integer arm id in {1, ..., self.narms}\n",
    "        \n",
    "        reward : float\n",
    "            reward received from arm\n",
    "        \n",
    "        context : 1D float array, shape (self.ndims * self.narms), optional\n",
    "            context given to arms\n",
    "        \"\"\""
   ]
  },
  {
   "cell_type": "code",
   "execution_count": 10,
   "metadata": {},
   "outputs": [],
   "source": [
    "class EpsGreedy(MAB):\n",
    "    \"\"\"\n",
    "    Epsilon-Greedy multi-armed bandit\n",
    "\n",
    "    Arguments\n",
    "    =========\n",
    "    narms : int\n",
    "        number of arms\n",
    "\n",
    "    epsilon : float\n",
    "        explore probability\n",
    "\n",
    "    Q0 : float, optional\n",
    "        initial value for the arms\n",
    "    \"\"\"\n",
    "    \n",
    "    def __init__(self, narms, epsilon, Q0=np.inf):\n",
    "        # Initialise some useful instants\n",
    "        # arm number\n",
    "        self.narms = narms\n",
    "        \n",
    "        # explore probability\n",
    "        self.epsilon = epsilon\n",
    "        \n",
    "        # initial value of Q for arms\n",
    "        self.Q0 = Q0\n",
    "        \n",
    "        # total reward for each arms \n",
    "        self.total_reward = np.zeros(narms)\n",
    "        \n",
    "        # how much round we have run\n",
    "        self.round = np.zeros(narms)\n",
    "        \n",
    "        # My estimate Q value for each arm \n",
    "        self.estimate_Q = [Q0 for i in range(narms)]\n",
    "        \n",
    "    def play(self, tround, context=None):\n",
    "        # using np.random.rand to simulate the probability of explore\n",
    "        # np.random.rand  return a float number ranges from [0,1)\n",
    "        simulation = np.random.rand()\n",
    "        if (simulation <= self.epsilon):\n",
    "            return np.random.randint(1,self.narms+1)\n",
    "        else:\n",
    "            ### get the arm index with max Q value \n",
    "            # and then randomly choose one as the arm played\n",
    "            max_Q = np.max(self.estimate_Q)\n",
    "            arm_index_max_Q = [i+1 for i in range(self.narms) if self.estimate_Q[i] == max_Q]\n",
    "            return np.random.choice(arm_index_max_Q)\n",
    "        \n",
    "    def update(self, arm, reward, context=None):\n",
    "        # update reward, round and finally calculate the Q value\n",
    "        self.total_reward[arm-1] = self.total_reward[arm-1]+reward\n",
    "        self.round[arm-1] = self.round[arm-1]+1\n",
    "        self.estimate_Q[arm-1] = self.total_reward[arm-1]/self.round[arm-1] \n",
    "        \n",
    "    "
   ]
  },
  {
   "cell_type": "code",
   "execution_count": 21,
   "metadata": {},
   "outputs": [],
   "source": [
    "class UCB(MAB):\n",
    "    \"\"\"\n",
    "    Upper Confidence Bound (UCB) multi-armed bandit\n",
    "\n",
    "    Arguments\n",
    "    =========\n",
    "    narms : int\n",
    "        number of arms\n",
    "\n",
    "    rho : float\n",
    "        positive real explore-exploit parameter\n",
    "\n",
    "    Q0 : float, optional\n",
    "        initial value for the arms\n",
    "    \"\"\"\n",
    "    \n",
    "    def __init__(self, narms, rho, Q0=np.inf):\n",
    "        self.narms = narms\n",
    "        self.rho = rho\n",
    "        \n",
    "        # initial value of Q for arms\n",
    "        self.Q0 = Q0\n",
    "        \n",
    "        # total reward for each arms \n",
    "        self.total_reward = np.zeros(narms)\n",
    "        \n",
    "        # how much round we have run\n",
    "        self.round = np.zeros(narms)\n",
    "        \n",
    "        # My estimate Q value for each arm \n",
    "        self.estimate_Q = [Q0 for i in range(narms)]\n",
    "    \n",
    "    def play(self, tround, context=None):\n",
    "        ### get the arm index with max Q value \n",
    "        # and then randomly choose one as the arm played\n",
    "        max_Q = np.max(self.estimate_Q)\n",
    "        arm_index_max_Q = [i+1 for i in range(self.narms) if self.estimate_Q[i] == max_Q]\n",
    "        return np.random.choice(arm_index_max_Q)\n",
    "    \n",
    "    def update(self, arm, reward, context=None):\n",
    "        # update reward, round and finally calculate the Q value\n",
    "        self.total_reward[arm-1] = self.total_reward[arm-1]+reward\n",
    "        self.round[arm-1] = self.round[arm-1]+1\n",
    "        # the change is that we add explore boost when we calculating the Q value, compared with the e-greedy\n",
    "        explore_boost = np.sqrt(self.rho*np.log(sum(self.round))/self.round[arm-1])   \n",
    "        self.estimate_Q[arm-1] = self.total_reward[arm-1]/self.round[arm-1]+ explore_boost\n",
    "        \n",
    "    "
   ]
  },
  {
   "cell_type": "markdown",
   "metadata": {},
   "source": [
    "## 2. The Basic Thompson Bandit"
   ]
  },
  {
   "cell_type": "code",
   "execution_count": 31,
   "metadata": {},
   "outputs": [],
   "source": [
    "class BetaThompson(MAB):\n",
    "    \"\"\"\n",
    "    Beta-Bernoulli Thompson sampling multi-armed bandit\n",
    "\n",
    "    Arguments\n",
    "    =========\n",
    "    narms : int\n",
    "        number of arms\n",
    "\n",
    "    alpha0 : float, optional\n",
    "        positive real prior hyperparameter\n",
    "\n",
    "    beta0 : float, optional\n",
    "        positive real prior hyperparameter\n",
    "    \"\"\"\n",
    "    \n",
    "    def __init__(self, narms, alpha0=1.0, beta0=1.0):\n",
    "        self.narms = narms\n",
    "        self.alpha0 = alpha0\n",
    "        self.beta0 = beta0\n",
    "        \n",
    "        # total reward for each arms \n",
    "        self.total_reward = np.zeros(narms)\n",
    "        \n",
    "        # how much round we have run\n",
    "        self.round = np.zeros(narms)\n",
    "        \n",
    "        # Beta distribution, initialised for each arm\n",
    "        self.beta_distribution = [[self.alpha0,self.beta0] for i in range(narms)]\n",
    "        \n",
    "    def play(self, tround, context=None):\n",
    "        # Using Thompson Sampling here\n",
    "        # random.beta() is for getting the beta distribution over [0,1] here, which means the probability.\n",
    "        # random.beta() using the parameters stored in self.distribution\n",
    "        # and then randomly choose one as the arm played from the maximum probability list \n",
    "        \n",
    "        prob = [np.random.beta(item[0],item[1]) for item in self.beta_distribution]\n",
    "        max_prob = np.max(prob)\n",
    "        arm_index_max_prob = [i+1 for i in range(self.narms) if prob[i]==max_prob]\n",
    "        return np.random.choice(arm_index_max_prob)    \n",
    "        \n",
    "    def update(self, arm, reward, context=None):\n",
    "        # update reward, round and finally updated the alpha and beta parameters for the chosen arm. \n",
    "        self.total_reward[arm-1] = self.total_reward[arm-1]+reward\n",
    "        self.round[arm-1] = self.round[arm-1]+1\n",
    "        if reward == 1:\n",
    "            self.beta_distribution[arm-1][0] = self.beta_distribution[arm-1][0] +1\n",
    "        else:\n",
    "            self.beta_distribution[arm-1][1] = self.beta_distribution[arm-1][1] +1\n",
    "        "
   ]
  },
  {
   "cell_type": "markdown",
   "metadata": {},
   "source": [
    "## 3. Off-Policy Evaluation"
   ]
  },
  {
   "cell_type": "code",
   "execution_count": 42,
   "metadata": {},
   "outputs": [],
   "source": [
    "def offlineEvaluate(mab, arms, rewards, contexts, nrounds=None):\n",
    "    \"\"\"\n",
    "    Offline evaluation of a multi-armed bandit\n",
    "    \n",
    "    Arguments\n",
    "    =========\n",
    "    mab : instance of MAB\n",
    "    \n",
    "    arms : 1D int array, shape (nevents,) \n",
    "        integer arm id for each event\n",
    "    \n",
    "    rewards : 1D float array, shape (nevents,)\n",
    "        reward received for each event\n",
    "    \n",
    "    contexts : 2D float array, shape (nevents, mab.narms*nfeatures)\n",
    "        contexts presented to the arms (stacked horizontally) \n",
    "        for each event.\n",
    "        \n",
    "    nrounds : int, optional\n",
    "        number of matching events to evaluate `mab` on.\n",
    "    \n",
    "    Returns\n",
    "    =======\n",
    "    out : 1D float array\n",
    "        rewards for the matching events\n",
    "    \"\"\"\n",
    "    \n",
    "    \"\"\"Description from the paper:\n",
    "     If, given the current history ht−1, \n",
    "     it happens that the policy π chooses the same arm a as the one that was selected by the logging policy, \n",
    "     then the event is retained, that is, added to the history,\n",
    "     and the total payoff Rt updated. Otherwise, \n",
    "     if the policy π selects a different arm from the one that was taken by the logging policy, \n",
    "     then the event is entirely ignored, \n",
    "     and the algorithm proceeds to the next event without any other change in its state. \n",
    "    \"\"\"\n",
    "    tround = 0\n",
    "    total_rewards = []\n",
    "    # So, here I loop the arms\n",
    "    for i in range(len(arms)):\n",
    "        \n",
    "        # I have played enough rounds, jump out\n",
    "        if(tround == nrounds):\n",
    "            break\n",
    "        \n",
    "        # if the selected arm matching the data I've choose \n",
    "        # then update the rewards and record the total reward in this round\n",
    "        # also record the round I have played\n",
    "        if (mab.play(tround,contexts[i])==arms[i]):\n",
    "            tround = tround+1\n",
    "            mab.update(arms[i],rewards[i],contexts[i])\n",
    "            total_rewards.append(rewards[i])\n",
    "            \n",
    "    #print(len(total_rewards))\n",
    "    return total_rewards\n",
    "    "
   ]
  },
  {
   "cell_type": "code",
   "execution_count": 54,
   "metadata": {},
   "outputs": [
    {
     "name": "stdout",
     "output_type": "stream",
     "text": [
      "EpsGreedy average reward 0.25625\n"
     ]
    }
   ],
   "source": [
    "mab = EpsGreedy(10, 0.05)\n",
    "results_EpsGreedy = offlineEvaluate(mab, arms, rewards, contexts, 800)\n",
    "print('EpsGreedy average reward', np.mean(results_EpsGreedy))"
   ]
  },
  {
   "cell_type": "code",
   "execution_count": 62,
   "metadata": {},
   "outputs": [
    {
     "name": "stdout",
     "output_type": "stream",
     "text": [
      "UCB average reward 0.16625\n"
     ]
    }
   ],
   "source": [
    "mab = UCB(10, 1.0)\n",
    "results_UCB = offlineEvaluate(mab, arms, rewards, contexts, 800)\n",
    "print('UCB average reward', np.mean(results_UCB))"
   ]
  },
  {
   "cell_type": "code",
   "execution_count": 48,
   "metadata": {},
   "outputs": [
    {
     "name": "stdout",
     "output_type": "stream",
     "text": [
      "BetaThompson average reward 0.2025\n"
     ]
    }
   ],
   "source": [
    "mab = BetaThompson(10, 1.0, 1.0)\n",
    "results_BetaThompson = offlineEvaluate(mab, arms, rewards, contexts, 800)\n",
    "print('BetaThompson average reward', np.mean(results_BetaThompson))"
   ]
  },
  {
   "cell_type": "markdown",
   "metadata": {},
   "source": [
    "## 4. Contextual Bandits - LinUCB"
   ]
  },
  {
   "cell_type": "code",
   "execution_count": 194,
   "metadata": {},
   "outputs": [],
   "source": [
    "class LinUCB(MAB):\n",
    "    \"\"\"\n",
    "    Contextual multi-armed bandit (LinUCB)\n",
    "\n",
    "    Arguments\n",
    "    =========\n",
    "    narms : int\n",
    "        number of arms\n",
    "\n",
    "    ndims : int\n",
    "        number of dimensions for each arm's context\n",
    "\n",
    "    alpha : float\n",
    "        positive real explore-exploit parameter\n",
    "    \"\"\"\n",
    "    \n",
    "    def __init__(self, narms, ndims, alpha):\n",
    "        # parameter initialisation\n",
    "        self.narms = narms\n",
    "        self.ndims = ndims\n",
    "        self.alpha = alpha\n",
    "        \n",
    "        # Three matrix described in the paper,\n",
    "        # and A, b, A 's inversre matrix\n",
    "        # For each arm, it will have its own matrix\n",
    "        self.A_matrix = np.zeros((narms,ndims,ndims))\n",
    "        self.b_matrix = np.zeros((narms,ndims,1))\n",
    "        self.A_matrix_inverse = np.zeros((narms,ndims,ndims))\n",
    "        \n",
    "        # Initialise Matrix A and it's reverse Matrix\n",
    "        for i in range(narms):\n",
    "            self.A_matrix[i] = np.identity(ndims)\n",
    "            self.A_matrix_inverse[i] = np.identity(ndims)\n",
    "        \n",
    "    def play(self, tround, context):\n",
    "        \n",
    "        p_result = []\n",
    "        for i in range(self.narms):\n",
    "            \n",
    "            #get the corresponding context for this arm\n",
    "            my_context_matrix = np.array([context[(i*10):(i*10+10)]])\n",
    "            \n",
    "            #  matrixθa, calculate the estimate_coefficient\n",
    "            estimate_coefficient = np.mat(self.A_matrix_inverse[i]) * np.mat(self.b_matrix[i])\n",
    "            #print(my_context_matrix.transpose())\n",
    "            \n",
    "            # calculate the standard deviation * alpha\n",
    "            standard_deviation = self.alpha * np.sqrt(np.mat(my_context_matrix)*np.mat(self.A_matrix_inverse[i])*np.mat(my_context_matrix.transpose()))\n",
    "            \n",
    "            # get the distribution probability for this arm and add it to the list\n",
    "            p_dist = np.mat(estimate_coefficient.transpose()) * np.mat(my_context_matrix.transpose())+ standard_deviation\n",
    "            p_result.append(p_dist)\n",
    "            \n",
    "            \n",
    "        # select the arm with max p distribution\n",
    "        # with tie broken arbitrarily\n",
    "        max_p_dist = np.max(p_result)\n",
    "        arm_max_p_dist = [i+1 for i in range(self.narms) if p_result[i]==max_p_dist]\n",
    "        return np.random.choice(arm_max_p_dist)\n",
    "    \n",
    "    def update(self, arm, reward, context):\n",
    "        \n",
    "        # get the context for this arm\n",
    "        my_context_matrix = np.array([context[((arm-1)*10):((arm-1)*10+10)]])\n",
    "        \n",
    "        # update A matrix and b matrix\n",
    "        self.A_matrix[arm-1] = self.A_matrix[arm-1]+np.mat(my_context_matrix.transpose())*np.mat(my_context_matrix)\n",
    "        \n",
    "        self.b_matrix[arm-1] = self.b_matrix[arm-1] + reward*my_context_matrix.transpose()\n",
    "        \n",
    "        #update the inverse matrix for this arm\n",
    "        self.A_matrix_inverse[arm-1] = inv(self.A_matrix[arm-1])\n",
    "        \n",
    "        "
   ]
  },
  {
   "cell_type": "code",
   "execution_count": 195,
   "metadata": {},
   "outputs": [
    {
     "name": "stdout",
     "output_type": "stream",
     "text": [
      "LinUCB average reward 0.53\n"
     ]
    }
   ],
   "source": [
    "mab = LinUCB(10, 10, 1.0)\n",
    "results_LinUCB = offlineEvaluate(mab, arms, rewards, contexts, 800)\n",
    "print('LinUCB average reward', np.mean(results_LinUCB))"
   ]
  },
  {
   "cell_type": "markdown",
   "metadata": {},
   "source": [
    "## 5. Contextual Bandits - LinThompson"
   ]
  },
  {
   "cell_type": "code",
   "execution_count": 181,
   "metadata": {},
   "outputs": [],
   "source": [
    "class LinThompson(MAB):\n",
    "    \"\"\"\n",
    "    Contextual Thompson sampled multi-armed bandit (LinThompson)\n",
    "\n",
    "    Arguments\n",
    "    =========\n",
    "    narms : int\n",
    "        number of arms\n",
    "\n",
    "    ndims : int\n",
    "        number of dimensions for each arm's context\n",
    "\n",
    "    v : float\n",
    "        positive real explore-exploit parameter\n",
    "    \"\"\"\n",
    "    \n",
    "    def __init__(self, narms, ndims, v):\n",
    "        self.narms = narms\n",
    "        self.ndims = ndims\n",
    "        self.v = v\n",
    "        \n",
    "        # Also three matrix described in the paper\n",
    "        # create matrix for each arm\n",
    "        self.B_matrix = np.zeros((narms,ndims,ndims))\n",
    "        self.mue_matrix = np.zeros((narms,ndims,1))\n",
    "        self.f_matrix = np.zeros((narms,ndims,1))\n",
    "        self.B_matrix_inverse = np.zeros((narms,ndims,ndims))\n",
    "        \n",
    "        # Matrix Initialisation\n",
    "        for i in range(self.narms): \n",
    "            self.B_matrix[i] = np.identity(ndims)\n",
    "            self.B_matrix_inverse[i] = np.identity(ndims)\n",
    "            \n",
    "    def play(self, tround, context):\n",
    "        \n",
    "        p_result = []\n",
    "        for i in range(self.narms):\n",
    "            my_context_matrix = np.array(context[(i*10):(i*10+10)])\n",
    "            arm_mue = self.mue_matrix[i]\n",
    "            B_inverse = self.B_matrix_inverse[i]\n",
    "            #print(B_inverse)\n",
    "            sample = np.random.multivariate_normal(arm_mue.T[0],B_inverse*(self.v**2))\n",
    "            p_dist = my_context_matrix.T.dot(sample)\n",
    "            p_result.append(p_dist)\n",
    "            \n",
    "        # select the arm with max p distribution\n",
    "        # with tie broken arbitrarily\n",
    "        max_p_dist = np.max(p_result)\n",
    "        arm_max_p_dist = [i+1 for i in range(self.narms) if p_result[i]==max_p_dist]\n",
    "        return np.random.choice(arm_max_p_dist)\n",
    "    \n",
    "    def update(self, arm, reward, context):\n",
    "        \n",
    "        # Get context and update Matrix B, f, mue, and B's inverse matrix\n",
    "        # updated according to paper's description\n",
    "        \n",
    "        my_context_matrix = np.array(context[((arm-1)*10):((arm-1)*10+10)])\n",
    "        my_context_matrix.reshape(10,1)\n",
    "        \n",
    "        self.B_matrix[arm-1] = self.B_matrix[arm-1]+my_context_matrix*my_context_matrix.transpose()\n",
    "        \n",
    "        #print(self.f_matrix[arm-1].shape)\n",
    "        #print(my_context_matrix*reward)\n",
    "        \n",
    "        self.f_matrix[arm-1] = self.f_matrix[arm-1]+(my_context_matrix*reward).reshape(10,1)\n",
    "        self.B_matrix_inverse[arm-1] = inv(self.B_matrix[arm-1])\n",
    "\n",
    "        self.mue_matrix[arm-1] = self.B_matrix_inverse[arm-1].dot(self.f_matrix[arm-1])\n",
    "        \n",
    "    "
   ]
  },
  {
   "cell_type": "code",
   "execution_count": 187,
   "metadata": {
    "scrolled": true
   },
   "outputs": [
    {
     "name": "stderr",
     "output_type": "stream",
     "text": [
      "C:\\Users\\xplir\\Anaconda3\\lib\\site-packages\\ipykernel_launcher.py:42: RuntimeWarning: covariance is not symmetric positive-semidefinite.\n"
     ]
    },
    {
     "name": "stdout",
     "output_type": "stream",
     "text": [
      "LinThompson average reward 0.34875\n"
     ]
    }
   ],
   "source": [
    "mab = LinThompson(10, 10, 1.0)\n",
    "results_LinThompson = offlineEvaluate(mab, arms, rewards, contexts, 800)\n",
    "print('LinThompson average reward', np.mean(results_LinThompson))"
   ]
  },
  {
   "cell_type": "markdown",
   "metadata": {},
   "source": [
    "## 6. Evaluation\n",
    "### 6.A."
   ]
  },
  {
   "cell_type": "code",
   "execution_count": 190,
   "metadata": {},
   "outputs": [
    {
     "name": "stderr",
     "output_type": "stream",
     "text": [
      "C:\\Users\\xplir\\Anaconda3\\lib\\site-packages\\ipykernel_launcher.py:42: RuntimeWarning: covariance is not symmetric positive-semidefinite.\n"
     ]
    },
    {
     "data": {
      "text/plain": [
       "<function matplotlib.pyplot.show(*args, **kw)>"
      ]
     },
     "execution_count": 190,
     "metadata": {},
     "output_type": "execute_result"
    },
    {
     "data": {
      "image/png": "[encoded data removed]",
      "text/plain": [
       "<Figure size 432x288 with 1 Axes>"
      ]
     },
     "metadata": {
      "needs_background": "light"
     },
     "output_type": "display_data"
    }
   ],
   "source": [
    "# the reward list to be plotted, containing the Cumulative reward per round\n",
    "reward_E_greedy = []\n",
    "reward_UCB = []\n",
    "reward_BetaThompson = []\n",
    "reward_LinUCB = []\n",
    "reward_LinThompson = []\n",
    "\n",
    "# creat model\n",
    "model_E_greedy = EpsGreedy(10, 0.05)\n",
    "model_UCB = UCB(10, 1.0)\n",
    "model_BetaThompson = BetaThompson(10, 1.0, 1.0)\n",
    "model_LinUCB = LinUCB(10, 10, 1.0)\n",
    "model_LinThompson = LinThompson(10, 10, 1.0)\n",
    "\n",
    "# test model\n",
    "my_Greedy = offlineEvaluate(model_E_greedy, arms, rewards, contexts, 800)\n",
    "my_UCB = offlineEvaluate(model_UCB, arms, rewards, contexts, 800)\n",
    "my_BetaThompson = offlineEvaluate(model_BetaThompson, arms, rewards, contexts, 800)\n",
    "my_LinUCB = offlineEvaluate(model_LinUCB, arms, rewards, contexts, 800)\n",
    "my_LinThompson = offlineEvaluate(model_LinThompson, arms, rewards, contexts, 800)\n",
    "\n",
    "# calculate the Cumulative reward\n",
    "reward_each_round_E_greedy = 0.0\n",
    "reward_each_round_UCB = 0.0\n",
    "reward_each_round_BetaThompson = 0.0\n",
    "reward_each_round_LinUCB = 0.0\n",
    "reward_each_round_LinThompson = 0.0\n",
    "\n",
    "# loop for 800 rounds\n",
    "for i in range(800):\n",
    "    reward_each_round_E_greedy += my_Greedy[i]\n",
    "    reward_each_round_UCB += my_UCB[i]\n",
    "    reward_each_round_BetaThompson += my_BetaThompson[i]\n",
    "    reward_each_round_LinUCB += my_LinUCB[i]\n",
    "    reward_each_round_LinThompson += my_LinThompson[i]\n",
    "    \n",
    "    reward_E_greedy.append(reward_each_round_E_greedy/(i+1))\n",
    "    reward_UCB.append(reward_each_round_UCB/(i+1))\n",
    "    reward_BetaThompson.append(reward_each_round_BetaThompson/(i+1))\n",
    "    reward_LinUCB.append(reward_each_round_LinUCB/(i+1))\n",
    "    reward_LinThompson.append(reward_each_round_LinThompson/(i+1))\n",
    "    \n",
    "T = np.linspace(1,800,800)\n",
    "\n",
    "# plot the diagram\n",
    "plt.xticks(np.linspace(0,800,9))\n",
    "plt.xlabel('Round')\n",
    "plt.ylabel('Cumulative reward')\n",
    "plt.plot(T, reward_E_greedy, label='E-greedy')\n",
    "plt.plot(T, reward_UCB, label='UCB')\n",
    "plt.plot(T, reward_BetaThompson,  label='BetaThompson')\n",
    "plt.plot(T, reward_LinUCB,  label='LinUCB')\n",
    "plt.plot(T, reward_LinThompson, label='LinThompson')\n",
    "plt.legend(loc='upper right')\n",
    "plt.show"
   ]
  },
  {
   "cell_type": "markdown",
   "metadata": {},
   "source": [
    "### 6.B."
   ]
  },
  {
   "cell_type": "code",
   "execution_count": 197,
   "metadata": {},
   "outputs": [
    {
     "name": "stdout",
     "output_type": "stream",
     "text": [
      "The optimised alpha for LinUCB is: 0.0\n",
      "With the expected cumulative reward:  0.61625\n"
     ]
    }
   ],
   "source": [
    "\"\"\"Find the hyperparameter for LinUCB\n",
    "   Idea:\n",
    "        At the beginning :\n",
    "        We split the parameters of the interval 1 from 0 to 10.\n",
    "        \n",
    "        Build model for each parameter and run the model\n",
    "        for 800 rounds using offlineEvaluate.\n",
    "        \n",
    "        The get the best potential parameter with best performance.\n",
    "        \n",
    "        Usually the tendency for LinUCB is closer to 0, the better\n",
    "        If we already got 0, then jump out.\n",
    "        \n",
    "        Otherwise, using the potential parameter as the middle point\n",
    "        construct a new interval by expand 1 on both sides.\n",
    "        Build the model and do the test again.\n",
    "        \n",
    "        We do this cycle for 5 times. And use the final results as the \n",
    "        best parameter in our model.\n",
    "\"\"\"\n",
    "mean_reward_result=[]\n",
    "\n",
    "low = 0.0\n",
    "high = 10.0\n",
    "\n",
    "# initialise spiting the test parameter interval\n",
    "my_hyperparameters = np.linspace(low,high,10)\n",
    "\n",
    "# do 5 rounds for the entire cycle\n",
    "for i in range(5):\n",
    "    \n",
    "    for test_parameter in my_hyperparameters:\n",
    "        \n",
    "        # build and test the model for 800 times\n",
    "        linUCB = LinUCB(10, 10, test_parameter)\n",
    "        mean_reward_result.append(np.mean(offlineEvaluate(linUCB, arms, rewards, contexts, 800)))\n",
    "    \n",
    "    # get the highest parameter with the best reward for this cycle \n",
    "    highest = np.argmax(mean_reward_result)\n",
    "    highest_alpha = my_hyperparameters[highest]\n",
    "    \n",
    "    #  if the parameter >0, we do another cycle by going througn much detailed interval\n",
    "    if highest > 0 :\n",
    "        low = my_hyperparameters[highest -1]\n",
    "        high = my_hyperparameters[highest + 1]\n",
    "        final_result = np.max(mean_reward_result) \n",
    "        my_hyperparameters = np.linspace(low, high, 10)\n",
    "    \n",
    "    # the highest parameter == 0,then we just jump out\n",
    "    # usually the tendency is closer to 0, the better\n",
    "    elif highest == 0:\n",
    "        final_result = np.max(mean_reward_result)\n",
    "        break\n",
    "    mean_reward_result=[]\n",
    "        \n",
    "print(\"The optimised alpha for LinUCB is:\", highest_alpha)  \n",
    "print(\"With the expected cumulative reward: \",final_result)"
   ]
  },
  {
   "cell_type": "code",
   "execution_count": 198,
   "metadata": {},
   "outputs": [
    {
     "name": "stderr",
     "output_type": "stream",
     "text": [
      "C:\\Users\\xplir\\Anaconda3\\lib\\site-packages\\ipykernel_launcher.py:42: RuntimeWarning: covariance is not symmetric positive-semidefinite.\n"
     ]
    },
    {
     "name": "stdout",
     "output_type": "stream",
     "text": [
      "The optimised v for LinThompson is: 0.11177157953563992\n",
      "With the expected cumulative reward:  0.34125\n"
     ]
    }
   ],
   "source": [
    "\"\"\" Find the hyperparameter for LinThompson\n",
    "    The idea is the same as LinUCB\n",
    "\"\"\"\n",
    "mean_reward_result=[]\n",
    "\n",
    "low = 0.0\n",
    "high = 10.0\n",
    "\n",
    "# initialise spiting the test parameter interval\n",
    "my_hyperparameters = np.linspace(low,high,10)\n",
    "\n",
    "# do 5 rounds for the entire cycle\n",
    "for i in range(5):\n",
    "    \n",
    "    for test_parameter in my_hyperparameters:\n",
    "        \n",
    "        # build and test the model for 800 times\n",
    "        model_LinThompson = LinThompson(10, 10, test_parameter)\n",
    "        mean_reward_result.append(np.mean(offlineEvaluate(model_LinThompson, arms, rewards, contexts, 800)))\n",
    "    \n",
    "    # get the highest parameter with the best reward for this cycle \n",
    "    highest = np.argmax(mean_reward_result)\n",
    "    highest_v = my_hyperparameters[highest]\n",
    "    \n",
    "    #  if the parameter >0, we do another cycle by going througn much detailed interval\n",
    "    if highest > 0 :\n",
    "        low = my_hyperparameters[highest -1]\n",
    "        high = my_hyperparameters[highest + 1]\n",
    "        final_result = np.max(mean_reward_result) \n",
    "        my_hyperparameters = np.linspace(low, high, 10)\n",
    "    \n",
    "    # the highest parameter == 0,then we just jump out\n",
    "    # usually the tendency is closer to 0, the better\n",
    "    elif highest == 0:\n",
    "        final_result = np.max(mean_reward_result)\n",
    "        break\n",
    "    \n",
    "    mean_reward_result=[]\n",
    "        \n",
    "print(\"The optimised v for LinThompson is:\", highest_v)  \n",
    "print(\"With the expected cumulative reward: \",final_result)"
   ]
  },
  {
   "cell_type": "code",
   "execution_count": null,
   "metadata": {},
   "outputs": [],
   "source": []
  }
 ],
 "metadata": {
  "kernelspec": {
   "display_name": "Python 3",
   "language": "python",
   "name": "python3"
  },
  "language_info": {
   "codemirror_mode": {
    "name": "ipython",
    "version": 3
   },
   "file_extension": ".py",
   "mimetype": "text/x-python",
   "name": "python",
   "nbconvert_exporter": "python",
   "pygments_lexer": "ipython3",
   "version": "3.7.3"
  }
 },
 "nbformat": 4,
 "nbformat_minor": 2
}
